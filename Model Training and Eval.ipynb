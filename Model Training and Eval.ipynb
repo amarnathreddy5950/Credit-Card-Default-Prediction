{
 "cells": [
  {
   "cell_type": "markdown",
   "id": "79896088-08c8-4a7c-8d4d-6155317882e6",
   "metadata": {
    "tags": []
   },
   "source": [
    "### install dependencies"
   ]
  },
  {
   "cell_type": "code",
   "execution_count": 1,
   "id": "07ed0f50-cd73-4387-9752-4c5985641fe7",
   "metadata": {
    "tags": []
   },
   "outputs": [],
   "source": [
    "#!pip install -U sagemaker"
   ]
  },
  {
   "cell_type": "markdown",
   "id": "ec978ffb-db7b-4b28-8a30-820f4444e819",
   "metadata": {
    "tags": []
   },
   "source": [
    "### import libraries"
   ]
  },
  {
   "cell_type": "code",
   "execution_count": 2,
   "id": "b5dc45bd-801e-46c3-aa6f-f893e0fa192e",
   "metadata": {
    "tags": []
   },
   "outputs": [
    {
     "name": "stderr",
     "output_type": "stream",
     "text": [
      "/home/ec2-user/anaconda3/envs/python3/lib/python3.10/site-packages/pandas/core/computation/expressions.py:21: UserWarning: Pandas requires version '2.8.0' or newer of 'numexpr' (version '2.7.3' currently installed).\n",
      "  from pandas.core.computation.check import NUMEXPR_INSTALLED\n"
     ]
    },
    {
     "name": "stdout",
     "output_type": "stream",
     "text": [
      "sagemaker.config INFO - Not applying SDK defaults from location: /etc/xdg/sagemaker/config.yaml\n",
      "sagemaker.config INFO - Not applying SDK defaults from location: /home/ec2-user/.config/sagemaker/config.yaml\n"
     ]
    }
   ],
   "source": [
    "import sagemaker\n",
    "import pandas as pd\n",
    "from sagemaker import get_execution_role\n",
    "from sagemaker.estimator import Estimator\n",
    "from sagemaker.inputs import TrainingInput\n",
    "import boto3\n",
    "from sagemaker.serializers import CSVSerializer\n",
    "from io import StringIO\n",
    "import numpy as np\n",
    "from sklearn.metrics import precision_score\n",
    "import matplotlib.pyplot as plt\n",
    "from sklearn.metrics import roc_curve, auc"
   ]
  },
  {
   "cell_type": "markdown",
   "id": "f4486d4f-a0d8-4e21-ba5c-f73f33b9241c",
   "metadata": {
    "tags": []
   },
   "source": [
    "### Make model"
   ]
  },
  {
   "cell_type": "code",
   "execution_count": 3,
   "id": "04c56182-2bd1-455b-a135-5c2752c60811",
   "metadata": {
    "tags": []
   },
   "outputs": [
    {
     "name": "stdout",
     "output_type": "stream",
     "text": [
      "sagemaker.config INFO - Not applying SDK defaults from location: /etc/xdg/sagemaker/config.yaml\n",
      "sagemaker.config INFO - Not applying SDK defaults from location: /home/ec2-user/.config/sagemaker/config.yaml\n",
      "sagemaker.config INFO - Not applying SDK defaults from location: /etc/xdg/sagemaker/config.yaml\n",
      "sagemaker.config INFO - Not applying SDK defaults from location: /home/ec2-user/.config/sagemaker/config.yaml\n"
     ]
    }
   ],
   "source": [
    "data_location = 's3://testbucketforcreditproject/train_data.csv'\n",
    "sagemaker_session = sagemaker.Session()\n",
    "role = get_execution_role()\n",
    "container = sagemaker.image_uris.retrieve(\"xgboost\", version='0.90-1', region=sagemaker_session.boto_region_name)"
   ]
  },
  {
   "cell_type": "code",
   "execution_count": 4,
   "id": "663b7dbe-c912-4eec-bbb0-94e7ce6a163e",
   "metadata": {
    "tags": []
   },
   "outputs": [],
   "source": [
    "xgboost = Estimator(container,\n",
    "                    role,\n",
    "                    instance_count=1,\n",
    "                    instance_type='ml.m4.xlarge',\n",
    "                    output_path='s3://testbucketforcreditproject/output/',\n",
    "                    sagemaker_session=sagemaker_session,\n",
    "                    hyperparameters={'objective': 'binary:logistic',\n",
    "                                     'num_round': 100})"
   ]
  },
  {
   "cell_type": "markdown",
   "id": "7960b7dd-9416-48c3-acb8-111d34cfcf57",
   "metadata": {
    "tags": []
   },
   "source": [
    "### Train Model"
   ]
  },
  {
   "cell_type": "code",
   "execution_count": 5,
   "id": "e350c065-dba8-4231-ad5c-690ba352078f",
   "metadata": {
    "tags": []
   },
   "outputs": [
    {
     "name": "stderr",
     "output_type": "stream",
     "text": [
      "INFO:sagemaker:Creating training-job with name: sagemaker-xgboost-2023-12-03-19-41-20-441\n"
     ]
    },
    {
     "name": "stdout",
     "output_type": "stream",
     "text": [
      "2023-12-03 19:41:20 Starting - Starting the training job...\n",
      "2023-12-03 19:41:45 Starting - Preparing the instances for training.........\n",
      "2023-12-03 19:43:14 Downloading - Downloading input data...\n",
      "2023-12-03 19:43:44 Training - Downloading the training image...\n",
      "2023-12-03 19:44:15 Training - Training image download completed. Training in progress....\n",
      "2023-12-03 19:44:52 Uploading - Uploading generated training model\n",
      "2023-12-03 19:44:52 Completed - Training job completed\n",
      "\u001b[34mINFO:sagemaker-containers:Imported framework sagemaker_xgboost_container.training\u001b[0m\n",
      "\u001b[34mINFO:sagemaker-containers:Failed to parse hyperparameter objective value binary:logistic to Json.\u001b[0m\n",
      "\u001b[34mReturning the value itself\u001b[0m\n",
      "\u001b[34mINFO:sagemaker-containers:No GPUs detected (normal if no gpus installed)\u001b[0m\n",
      "\u001b[34mINFO:sagemaker_xgboost_container.training:Running XGBoost Sagemaker in algorithm mode\u001b[0m\n",
      "\u001b[34mINFO:root:Determined delimiter of CSV input is ','\u001b[0m\n",
      "\u001b[34mINFO:root:Determined delimiter of CSV input is ','\u001b[0m\n",
      "\u001b[34m[19:44:31] 24001x30 matrix with 720030 entries loaded from /opt/ml/input/data/train?format=csv&label_column=0&delimiter=,\u001b[0m\n",
      "\u001b[34mINFO:root:Single node training.\u001b[0m\n",
      "\u001b[34mINFO:root:Train matrix has 24001 rows\u001b[0m\n",
      "\u001b[34m[0]#011train-error:0.17141\u001b[0m\n",
      "\u001b[34m[1]#011train-error:0.169493\u001b[0m\n",
      "\u001b[34m[2]#011train-error:0.169118\u001b[0m\n",
      "\u001b[34m[3]#011train-error:0.167993\u001b[0m\n",
      "\u001b[34m[4]#011train-error:0.167285\u001b[0m\n",
      "\u001b[34m[5]#011train-error:0.166618\u001b[0m\n",
      "\u001b[34m[6]#011train-error:0.165243\u001b[0m\n",
      "\u001b[34m[7]#011train-error:0.164243\u001b[0m\n",
      "\u001b[34m[8]#011train-error:0.162993\u001b[0m\n",
      "\u001b[34m[9]#011train-error:0.162493\u001b[0m\n",
      "\u001b[34m[10]#011train-error:0.161452\u001b[0m\n",
      "\u001b[34m[11]#011train-error:0.160285\u001b[0m\n",
      "\u001b[34m[12]#011train-error:0.159618\u001b[0m\n",
      "\u001b[34m[13]#011train-error:0.159368\u001b[0m\n",
      "\u001b[34m[14]#011train-error:0.159035\u001b[0m\n",
      "\u001b[34m[15]#011train-error:0.158493\u001b[0m\n",
      "\u001b[34m[16]#011train-error:0.158327\u001b[0m\n",
      "\u001b[34m[17]#011train-error:0.158035\u001b[0m\n",
      "\u001b[34m[18]#011train-error:0.156368\u001b[0m\n",
      "\u001b[34m[19]#011train-error:0.155785\u001b[0m\n",
      "\u001b[34m[20]#011train-error:0.155535\u001b[0m\n",
      "\u001b[34m[21]#011train-error:0.155077\u001b[0m\n",
      "\u001b[34m[22]#011train-error:0.154702\u001b[0m\n",
      "\u001b[34m[23]#011train-error:0.15441\u001b[0m\n",
      "\u001b[34m[24]#011train-error:0.154202\u001b[0m\n",
      "\u001b[34m[25]#011train-error:0.154077\u001b[0m\n",
      "\u001b[34m[26]#011train-error:0.15316\u001b[0m\n",
      "\u001b[34m[27]#011train-error:0.153035\u001b[0m\n",
      "\u001b[34m[28]#011train-error:0.152244\u001b[0m\n",
      "\u001b[34m[29]#011train-error:0.151952\u001b[0m\n",
      "\u001b[34m[30]#011train-error:0.15116\u001b[0m\n",
      "\u001b[34m[31]#011train-error:0.150785\u001b[0m\n",
      "\u001b[34m[32]#011train-error:0.149369\u001b[0m\n",
      "\u001b[34m[33]#011train-error:0.149077\u001b[0m\n",
      "\u001b[34m[34]#011train-error:0.148619\u001b[0m\n",
      "\u001b[34m[35]#011train-error:0.148327\u001b[0m\n",
      "\u001b[34m[36]#011train-error:0.148244\u001b[0m\n",
      "\u001b[34m[37]#011train-error:0.14816\u001b[0m\n",
      "\u001b[34m[38]#011train-error:0.147577\u001b[0m\n",
      "\u001b[34m[39]#011train-error:0.146994\u001b[0m\n",
      "\u001b[34m[40]#011train-error:0.146286\u001b[0m\n",
      "\u001b[34m[41]#011train-error:0.146202\u001b[0m\n",
      "\u001b[34m[42]#011train-error:0.145161\u001b[0m\n",
      "\u001b[34m[43]#011train-error:0.144369\u001b[0m\n",
      "\u001b[34m[44]#011train-error:0.143577\u001b[0m\n",
      "\u001b[34m[45]#011train-error:0.142702\u001b[0m\n",
      "\u001b[34m[46]#011train-error:0.142369\u001b[0m\n",
      "\u001b[34m[47]#011train-error:0.141244\u001b[0m\n",
      "\u001b[34m[48]#011train-error:0.141036\u001b[0m\n",
      "\u001b[34m[49]#011train-error:0.139911\u001b[0m\n",
      "\u001b[34m[50]#011train-error:0.139244\u001b[0m\n",
      "\u001b[34m[51]#011train-error:0.139078\u001b[0m\n",
      "\u001b[34m[52]#011train-error:0.138536\u001b[0m\n",
      "\u001b[34m[53]#011train-error:0.138244\u001b[0m\n",
      "\u001b[34m[54]#011train-error:0.137661\u001b[0m\n",
      "\u001b[34m[55]#011train-error:0.137286\u001b[0m\n",
      "\u001b[34m[56]#011train-error:0.136619\u001b[0m\n",
      "\u001b[34m[57]#011train-error:0.136369\u001b[0m\n",
      "\u001b[34m[58]#011train-error:0.136119\u001b[0m\n",
      "\u001b[34m[59]#011train-error:0.135619\u001b[0m\n",
      "\u001b[34m[60]#011train-error:0.134828\u001b[0m\n",
      "\u001b[34m[61]#011train-error:0.133994\u001b[0m\n",
      "\u001b[34m[62]#011train-error:0.133578\u001b[0m\n",
      "\u001b[34m[63]#011train-error:0.133286\u001b[0m\n",
      "\u001b[34m[64]#011train-error:0.132994\u001b[0m\n",
      "\u001b[34m[65]#011train-error:0.132203\u001b[0m\n",
      "\u001b[34m[66]#011train-error:0.131411\u001b[0m\n",
      "\u001b[34m[67]#011train-error:0.131161\u001b[0m\n",
      "\u001b[34m[68]#011train-error:0.130661\u001b[0m\n",
      "\u001b[34m[69]#011train-error:0.130036\u001b[0m\n",
      "\u001b[34m[70]#011train-error:0.12962\u001b[0m\n",
      "\u001b[34m[71]#011train-error:0.128411\u001b[0m\n",
      "\u001b[34m[72]#011train-error:0.127745\u001b[0m\n",
      "\u001b[34m[73]#011train-error:0.12687\u001b[0m\n",
      "\u001b[34m[74]#011train-error:0.125536\u001b[0m\n",
      "\u001b[34m[75]#011train-error:0.124453\u001b[0m\n",
      "\u001b[34m[76]#011train-error:0.12462\u001b[0m\n",
      "\u001b[34m[77]#011train-error:0.124078\u001b[0m\n",
      "\u001b[34m[78]#011train-error:0.124036\u001b[0m\n",
      "\u001b[34m[79]#011train-error:0.123578\u001b[0m\n",
      "\u001b[34m[80]#011train-error:0.123537\u001b[0m\n",
      "\u001b[34m[81]#011train-error:0.123287\u001b[0m\n",
      "\u001b[34m[82]#011train-error:0.122745\u001b[0m\n",
      "\u001b[34m[83]#011train-error:0.122537\u001b[0m\n",
      "\u001b[34m[84]#011train-error:0.122037\u001b[0m\n",
      "\u001b[34m[85]#011train-error:0.121703\u001b[0m\n",
      "\u001b[34m[86]#011train-error:0.121078\u001b[0m\n",
      "\u001b[34m[87]#011train-error:0.119995\u001b[0m\n",
      "\u001b[34m[88]#011train-error:0.119745\u001b[0m\n",
      "\u001b[34m[89]#011train-error:0.119537\u001b[0m\n",
      "\u001b[34m[90]#011train-error:0.11862\u001b[0m\n",
      "\u001b[34m[91]#011train-error:0.11837\u001b[0m\n",
      "\u001b[34m[92]#011train-error:0.118287\u001b[0m\n",
      "\u001b[34m[93]#011train-error:0.117953\u001b[0m\n",
      "\u001b[34m[94]#011train-error:0.117828\u001b[0m\n",
      "\u001b[34m[95]#011train-error:0.11687\u001b[0m\n",
      "\u001b[34m[96]#011train-error:0.115745\u001b[0m\n",
      "\u001b[34m[97]#011train-error:0.113954\u001b[0m\n",
      "\u001b[34m[98]#011train-error:0.11287\u001b[0m\n",
      "\u001b[34m[99]#011train-error:0.11237\u001b[0m\n",
      "Training seconds: 97\n",
      "Billable seconds: 97\n"
     ]
    }
   ],
   "source": [
    "xgboost.fit({'train': TrainingInput(data_location, content_type='text/csv')})"
   ]
  },
  {
   "cell_type": "markdown",
   "id": "2ce369d1-ace3-483f-bcac-e5b927ce7d26",
   "metadata": {
    "tags": []
   },
   "source": [
    "### Create predictor and test"
   ]
  },
  {
   "cell_type": "code",
   "execution_count": 6,
   "id": "19e1cbeb-c52d-484f-9625-ab70d5954e46",
   "metadata": {
    "tags": []
   },
   "outputs": [
    {
     "name": "stderr",
     "output_type": "stream",
     "text": [
      "INFO:sagemaker:Creating model with name: sagemaker-xgboost-2023-12-03-19-45-10-264\n",
      "INFO:sagemaker:Creating endpoint-config with name sagemaker-xgboost-2023-12-03-19-45-10-264\n",
      "INFO:sagemaker:Creating endpoint with name sagemaker-xgboost-2023-12-03-19-45-10-264\n"
     ]
    },
    {
     "name": "stdout",
     "output_type": "stream",
     "text": [
      "------!"
     ]
    }
   ],
   "source": [
    "predictor = xgboost.deploy(\n",
    "    instance_type='ml.m4.xlarge',\n",
    "    initial_instance_count=1,\n",
    "    serializer=CSVSerializer()\n",
    ")"
   ]
  },
  {
   "cell_type": "code",
   "execution_count": 9,
   "id": "3af1850c-d9da-4dd1-9fa4-a980f48e852e",
   "metadata": {
    "tags": []
   },
   "outputs": [],
   "source": [
    "aws_access_key_id = ''\n",
    "aws_secret_access_key = ''\n",
    "s3_client = boto3.client('s3', aws_access_key_id=aws_access_key_id, aws_secret_access_key=aws_secret_access_key)"
   ]
  },
  {
   "cell_type": "code",
   "execution_count": 13,
   "id": "917a5420-cbfe-4db4-ae3d-8c20e046e7ff",
   "metadata": {
    "tags": []
   },
   "outputs": [],
   "source": [
    "bucket_name = 'testbucketforcreditproject'\n",
    "file_key = 'test_data.csv'\n",
    "s3_response = s3_client.get_object(Bucket=bucket_name, Key=file_key)\n",
    "csv_content = s3_response['Body'].read().decode('utf-8')\n",
    "test_data = pd.read_csv(StringIO(csv_content))"
   ]
  },
  {
   "cell_type": "markdown",
   "id": "ef7fefd0-65e8-438c-b7e4-3ed365592fb9",
   "metadata": {},
   "source": [
    "### Load Data"
   ]
  },
  {
   "cell_type": "code",
   "execution_count": 14,
   "id": "7bb463e4-bc93-463e-bf6e-f01c561bd373",
   "metadata": {
    "tags": []
   },
   "outputs": [],
   "source": [
    "predict_data = test_data.drop('default payment next month', axis=1)"
   ]
  },
  {
   "cell_type": "markdown",
   "id": "4f906337-b61a-412f-95ea-421bd9600bb0",
   "metadata": {},
   "source": [
    "### Calculate accuracy"
   ]
  },
  {
   "cell_type": "code",
   "execution_count": 15,
   "id": "683a3485-dfed-4392-835d-d8d7eef6a151",
   "metadata": {
    "tags": []
   },
   "outputs": [
    {
     "name": "stdout",
     "output_type": "stream",
     "text": [
      "Accuracy: 81.23%\n"
     ]
    }
   ],
   "source": [
    "predictions = predictor.predict(predict_data.values).decode('utf-8')\n",
    "predictions = [float(prediction) for prediction in predictions.split(',')]\n",
    "actual_labels = test_data.iloc[:, 0].values\n",
    "predicted_labels = [1 if prediction > 0.5 else 0 for prediction in predictions]\n",
    "accuracy = sum(actual_labels == predicted_labels) / len(actual_labels)\n",
    "print(f'Accuracy: {accuracy * 100:.2f}%')"
   ]
  },
  {
   "cell_type": "code",
   "execution_count": 16,
   "id": "815b536b-f332-4c98-9123-9451bbf715f1",
   "metadata": {
    "tags": []
   },
   "outputs": [
    {
     "name": "stdout",
     "output_type": "stream",
     "text": [
      "Mean Squared Error (MSE): 0.1412\n"
     ]
    }
   ],
   "source": [
    "# MSE\n",
    "true_labels = test_data.iloc[:, 0].values\n",
    "squared_errors = (predictions - true_labels) ** 2\n",
    "mse = np.mean(squared_errors)\n",
    "print(f'Mean Squared Error (MSE): {mse:.4f}')"
   ]
  },
  {
   "cell_type": "code",
   "execution_count": 17,
   "id": "81e8e3b7-8d08-41ad-9d7e-279fe7700712",
   "metadata": {
    "tags": []
   },
   "outputs": [
    {
     "name": "stdout",
     "output_type": "stream",
     "text": [
      "Precision: 0.6596\n"
     ]
    }
   ],
   "source": [
    "# Precision\n",
    "binary_predictions = [1 if prediction > 0.5 else 0 for prediction in predictions]\n",
    "precision = precision_score(true_labels, binary_predictions)\n",
    "print(f'Precision: {precision:.4f}')"
   ]
  },
  {
   "cell_type": "code",
   "execution_count": 18,
   "id": "3aa075ff-a6f6-4607-803a-e86fa50eecae",
   "metadata": {
    "tags": []
   },
   "outputs": [
    {
     "data": {
      "image/png": "[encoded data removed]",
      "text/plain": [
       "<Figure size 800x600 with 1 Axes>"
      ]
     },
     "metadata": {},
     "output_type": "display_data"
    }
   ],
   "source": [
    "# Plot ROC curve\n",
    "fpr, tpr, thresholds = roc_curve(true_labels, predictions)\n",
    "roc_auc = auc(fpr, tpr)\n",
    "\n",
    "plt.figure(figsize=(8, 6))\n",
    "plt.plot(fpr, tpr, color='darkorange', lw=2, label=f'ROC curve (AUC = {roc_auc:.2f})')\n",
    "plt.plot([0, 1], [0, 1], color='navy', lw=2, linestyle='--')\n",
    "plt.xlabel('False Positive Rate')\n",
    "plt.ylabel('True Positive Rate')\n",
    "plt.title('Receiver Operating Characteristic (ROC) Curve')\n",
    "plt.legend(loc='lower right')\n",
    "plt.show()"
   ]
  },
  {
   "cell_type": "markdown",
   "id": "dc5e698d-efe6-4bc5-969e-5a69d02c9201",
   "metadata": {},
   "source": [
    "### Close predictor"
   ]
  },
  {
   "cell_type": "code",
   "execution_count": 27,
   "id": "59fdfca9-87b7-45d9-a56c-8f73c6d01877",
   "metadata": {
    "tags": []
   },
   "outputs": [
    {
     "name": "stderr",
     "output_type": "stream",
     "text": [
      "INFO:sagemaker:Deleting endpoint configuration with name: sagemaker-xgboost-2023-12-02-23-01-24-551\n",
      "INFO:sagemaker:Deleting endpoint with name: sagemaker-xgboost-2023-12-02-23-01-24-551\n"
     ]
    }
   ],
   "source": [
    "predictor.delete_endpoint()"
   ]
  }
 ],
 "metadata": {
  "kernelspec": {
   "display_name": "conda_python3",
   "language": "python",
   "name": "conda_python3"
  },
  "language_info": {
   "codemirror_mode": {
    "name": "ipython",
    "version": 3
   },
   "file_extension": ".py",
   "mimetype": "text/x-python",
   "name": "python",
   "nbconvert_exporter": "python",
   "pygments_lexer": "ipython3",
   "version": "3.10.13"
  }
 },
 "nbformat": 4,
 "nbformat_minor": 5
}
